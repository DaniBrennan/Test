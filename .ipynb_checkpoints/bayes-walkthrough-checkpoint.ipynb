{
 "cells": [
  {
   "cell_type": "markdown",
   "metadata": {},
   "source": [
    "## Bayesian Statistics Walkthrough"
   ]
  },
  {
   "cell_type": "markdown",
   "metadata": {},
   "source": [
    "### Introduction\n",
    "- Bayesian statistics is a branch of statistics that allows us to directly estimate some parameter of interest with a distribution.\n",
    "    - In this case, we'll say our parameter of interest is the percentage of votes the Democratic candidate earns:\n",
    "    $$p_D$$\n",
    "    \n",
    "- Rather than saying \"the Democrat will win 53% of the vote ($p_D = 0.53$),\" we can estimate the percentage of votes the Democrat will get with a distribution. This is beneficial because we can directly account for uncertainty in our forecasts. (i.e. The Democrat is likely to win 53%, but it's reasonable that they win between 48% and 58% of the vote.)\n",
    "- Bayesian inference is also beneficial because we can combine our data (likelihood) with our prior beliefs about the parameter of interest."
   ]
  },
  {
   "cell_type": "markdown",
   "metadata": {},
   "source": [
    "## Terms:\n",
    "\n",
    "A **distribution** is the set of all possible values of a variable and how frequently we observe each of the values.\n",
    "\n",
    "Our **prior distribution** summarizes our prior beliefs about $p_D$.\n",
    "\n",
    "Our **likelihood** is how our data summarize the parameter of interest.\n",
    "\n",
    "Our **posterior distribution** is the combination of the data we've observed (a.k.a. our likelihood) and our prior beliefs (a.k.a. our prior distribution).\n",
    "- Intuitively, I think of the posterior distribution as a sort of compromise between our prior distribution and our likelihood.\n",
    "\n",
    "## Let's put this into action!"
   ]
  },
  {
   "cell_type": "code",
   "execution_count": null,
   "metadata": {},
   "outputs": [],
   "source": [
    "# Import the necessary packages:\n",
    "\n",
    "import numpy as np\n",
    "import matplotlib.pyplot as plt\n",
    "from scipy.stats import beta\n",
    "\n",
    "%matplotlib inline"
   ]
  },
  {
   "cell_type": "markdown",
   "metadata": {},
   "source": [
    "### Suppose I live in a district where I strongly believe the Democrat is going to lose... badly. Then, I want a prior distribution that reflects these beliefs.\n",
    "- It's common for us to use a [Beta distribution](https://en.wikipedia.org/wiki/Beta_distribution) when modeling probabilities, because the Beta distribution is bound between 0 and 1."
   ]
  },
  {
   "cell_type": "code",
   "execution_count": null,
   "metadata": {},
   "outputs": [],
   "source": [
    "# Define our alpha and beta parameters:\n",
    "a = 10\n",
    "b = 40\n",
    "\n",
    "# Generate 200 x values in the appropriate\n",
    "# range to use for plotting:\n",
    "x = np.linspace(0, 1, 200)\n",
    "\n",
    "plt.plot(x, beta(a,b).pdf(x),\n",
    "        'b-', lw=2, alpha=1)\n",
    "\n",
    "# Plot customization:\n",
    "plt.ylabel('Density', fontsize = 14)\n",
    "plt.xlim((0,1))\n",
    "plt.xlabel('Values of $p_D$', fontsize = 14)\n",
    "plt.title(r'Beta($\\alpha=10$,$\\beta=40$)', fontsize = 18);"
   ]
  },
  {
   "cell_type": "markdown",
   "metadata": {},
   "source": [
    "### Suppose I live in a district where I think the Democrat will win, but I'm not so certain. Then, I want a prior distribution that reflects these beliefs."
   ]
  },
  {
   "cell_type": "code",
   "execution_count": null,
   "metadata": {},
   "outputs": [],
   "source": [
    "# Define our alpha and beta parameters:\n",
    "a = 7\n",
    "b = 5\n",
    "\n",
    "# Generate 200 x values in the appropriate\n",
    "# range to use for plotting:\n",
    "x = np.linspace(0, 1, 200)\n",
    "\n",
    "plt.plot(x, beta(a,b).pdf(x),\n",
    "        'b-', lw=2, alpha=1)\n",
    "\n",
    "# Plot customization:\n",
    "plt.ylabel('Density', fontsize = 14)\n",
    "plt.xlim((0,1))\n",
    "plt.xlabel('Values of $p_D$', fontsize = 14)\n",
    "plt.title(r'Beta($\\alpha=7$,$\\beta=5$)', fontsize = 18);"
   ]
  },
  {
   "cell_type": "markdown",
   "metadata": {},
   "source": [
    "### Suppose I live in a district where I know nothing about either candidate, so literally any value between 0% and 100% for $p_D$ seems reasonable. Then, I want a prior distribution that reflects these beliefs."
   ]
  },
  {
   "cell_type": "code",
   "execution_count": null,
   "metadata": {},
   "outputs": [],
   "source": [
    "# Define our alpha and beta parameters:\n",
    "a = 1\n",
    "b = 1\n",
    "\n",
    "# Generate 200 x values in the appropriate\n",
    "# range to use for plotting:\n",
    "x = np.linspace(0, 1, 200)\n",
    "\n",
    "plt.plot(x, beta(a,b).pdf(x),\n",
    "        'b-', lw=2, alpha=1)\n",
    "\n",
    "# Plot customization:\n",
    "plt.ylabel('Density', fontsize = 14)\n",
    "plt.xlim((0,1))\n",
    "plt.xlabel('Values of $p_D$', fontsize = 14)\n",
    "plt.title(r'Beta($\\alpha=1$,$\\beta=1$)', fontsize = 18);"
   ]
  },
  {
   "cell_type": "markdown",
   "metadata": {},
   "source": [
    "## How do I combine this with our data?\n",
    "\n",
    "Remember that our posterior distribution is a combination of our prior and our likelihood (data)!\n",
    "\n",
    "The **likelihood function** should be a reasonable model for how the data are generated.\n",
    "\n",
    "If I administer a survey to $n$ people and ask, \"Do you plan to vote for the Democratic candidate?,\" a reasonable model for counting up how many people support the Democratic candidate is the [Binomial distribution](https://en.wikipedia.org/wiki/Binomial_distribution).\n",
    "\n",
    "### Suppose I get responses from 40 people in my survey, and 30 people say they plan to support the Democrat."
   ]
  },
  {
   "cell_type": "code",
   "execution_count": null,
   "metadata": {},
   "outputs": [],
   "source": [
    "from scipy.stats import binom\n",
    "\n",
    "x = np.linspace(0,1,200) \n",
    "y = [binom(n=40, p=i).pmf(30) for i in x]\n",
    "\n",
    "plt.plot(x,y)\n",
    "\n",
    "plt.ylabel('Likelihood', fontsize = 14)\n",
    "plt.xlim((0,1))\n",
    "plt.xlabel('Values of $p_D$', fontsize = 14)\n",
    "plt.title(r'Binomial likelihood with $n=40$, $k=30$', fontsize = 18);"
   ]
  },
  {
   "cell_type": "markdown",
   "metadata": {},
   "source": [
    "Note that my likelihood isn't dependent on my prior. **My likelihood only depends on my data!**"
   ]
  },
  {
   "cell_type": "markdown",
   "metadata": {},
   "source": [
    "### Suppose I get responses from 400 people in my survey, and 300 people say they plan to support the Democrat."
   ]
  },
  {
   "cell_type": "code",
   "execution_count": null,
   "metadata": {},
   "outputs": [],
   "source": [
    "from scipy.stats import binom\n",
    "\n",
    "x = np.linspace(0,1,200) \n",
    "y = [binom(n=400, p=i).pmf(300) for i in x]\n",
    "\n",
    "plt.plot(x,y)\n",
    "\n",
    "plt.ylabel('Likelihood', fontsize = 14)\n",
    "plt.xlim((0,1))\n",
    "plt.xlabel('Values of $p_D$', fontsize = 14)\n",
    "plt.title(r'Binomial likelihood with $n=400$, $k=300$', fontsize = 18);"
   ]
  },
  {
   "cell_type": "markdown",
   "metadata": {},
   "source": [
    "## Let's look at a prior and likelihood together.\n",
    "- Suppose I think the Democrat will win, but I'm not so certain. I'll use my $Beta(7,5)$ as my prior.\n",
    "- Suppose I administer a survey to 400 people and get 300 people supporting the Democrat. I'll use my $Binomial(400, 300)$ as my likelihood."
   ]
  },
  {
   "cell_type": "code",
   "execution_count": null,
   "metadata": {},
   "outputs": [],
   "source": [
    "plt.figure(figsize = (16,9))\n",
    "\n",
    "## We want to vary p from 0 to 1.\n",
    "lst = np.linspace(0,1,200)\n",
    "\n",
    "## Set up prior.\n",
    "a = 7\n",
    "b = 5\n",
    "prior = [beta(a,b).pdf(i) for i in lst]\n",
    "plt.vlines(a / (a + b), ymin = 0, ymax = max(prior), color = 'tab:orange', label='Prior')\n",
    "\n",
    "## Set up likelihood.\n",
    "n = 400\n",
    "k = 300\n",
    "likelihood = [binom(n,i).pmf(k) for i in lst]\n",
    "plt.vlines(300 / 400, ymin = 0, ymax = max(prior), color = 'tab:green', label = 'Likelihood')\n",
    "\n",
    "## Plot prior and likelihood.\n",
    "plt.title(\"Prior and Likelihood\", fontsize = 26)\n",
    "plt.legend(loc = 'upper left', fontsize = 20)\n",
    "plt.plot(lst, prior, c = 'tab:orange');\n",
    "plt.plot(lst, likelihood, c = 'tab:green');"
   ]
  },
  {
   "cell_type": "markdown",
   "metadata": {},
   "source": [
    "### Now, let's visualize our posterior distribution and posterior mean. Any thoughts on where the posterior mean might fall? Why?"
   ]
  },
  {
   "cell_type": "code",
   "execution_count": null,
   "metadata": {},
   "outputs": [],
   "source": [
    "def plot_beta_binomial(a, b, n_trials, n_successes, n_steps = 200):\n",
    "    plt.figure(figsize = (16, 9))\n",
    "    \n",
    "    lst = np.linspace(0, 1, n_steps)\n",
    "    \n",
    "    ## Calculating prior, likelihood, and posterior.\n",
    "    prior = [beta(a, b).pdf(i) for i in lst]\n",
    "    likelihood = [binom(n_trials,i).pmf(k = n_successes) for i in lst]\n",
    "    posterior = np.multiply(prior, likelihood)\n",
    "    \n",
    "    ## Plotting colored lines here to show prior mean, the maximum likelihood value, and posterior mean.\n",
    "    plt.vlines([a / (a + b), n_successes / n_trials, (a + n_successes) / (a + b + n_trials)],\n",
    "               ymin = 0,\n",
    "               ymax = max(max(prior),max(likelihood), max(posterior)), # height of dotted lines\n",
    "               linestyles = 'dashed',\n",
    "               colors = ['tab:orange', 'tab:green', 'tab:blue'])\n",
    "    \n",
    "    ## Plotting prior, likelihood, and posterior.\n",
    "    plt.title(\"Prior, Likelihood, and Posterior\", fontsize = 26)\n",
    "    plt.plot(lst, prior, c = 'tab:orange', label = 'Prior');\n",
    "    plt.plot(lst, likelihood, c = 'tab:green', label = 'Likelihood');\n",
    "    plt.plot(lst, posterior, c = 'tab:blue', label = 'Posterior');\n",
    "    plt.legend(loc = 'upper right', fontsize = 20)"
   ]
  },
  {
   "cell_type": "code",
   "execution_count": null,
   "metadata": {},
   "outputs": [],
   "source": [
    "plot_beta_binomial(a = 7,            # Hyperparameter alpha for Beta(alpha, beta)\n",
    "                   b = 5,            # Hyperparameter beta for Beta(alpha, beta)\n",
    "                   n_trials = 40,    # Hyperparameter n for Binomial(n, k)\n",
    "                   n_successes = 30) # Hyperparameter k for Binomial(n, k)"
   ]
  },
  {
   "cell_type": "markdown",
   "metadata": {},
   "source": [
    "### Suppose you had thought the Democrat was going to perform really poorly, but you do a survey that shows the Democrat actually has 55% support in a survey of 100 people."
   ]
  },
  {
   "cell_type": "code",
   "execution_count": null,
   "metadata": {},
   "outputs": [],
   "source": [
    "plot_beta_binomial(a = 10,              # Hyperparameter alpha for Beta(alpha, beta)\n",
    "                   b = 40,              # Hyperparameter beta for Beta(alpha, beta)\n",
    "                   n_trials = 100,      # Hyperparameter n for Binomial(n, k)\n",
    "                   n_successes = 55)   # Hyperparameter k for Binomial(n, k)"
   ]
  },
  {
   "cell_type": "markdown",
   "metadata": {},
   "source": [
    "## How does this get turned into election predictions?\n",
    "We can use Bayesian inference to generate forecasts for how much support the Democrat should expect to get at the polls.\n",
    "\n",
    "- If I pull one value $p_D$ from this posterior distribution, I can see if it's above 50%. If it's above 50%, then the Democrat won this one simulated election.\n",
    "- If I pull 100,000 values from this posterior distribution, I can simulate 100,000 elections.\n",
    "- If I simulated 100,000 elections and the Democrat won 60% of them, then it's reasonable for me to say that I expect the Democrat to have about a 60% chance of winning the election.\n",
    "    - Note: This is different than me saying I expect the Democrat to win 60% of the vote. We used simulations to turn how much of the vote the Democrat gets into how likely the Democrat is to win.\n",
    "    \n",
    "Mathematically, if I have a $Beta(\\alpha, \\beta)$ prior distribution and a $Binomial(n,k)$ likelihood, [then I will have](https://www4.stat.ncsu.edu/~reich/st590/code/BetaBinom) a $Beta\\big(\\alpha + k, \\beta + (n-k)\\big)$ posterior."
   ]
  },
  {
   "cell_type": "code",
   "execution_count": null,
   "metadata": {},
   "outputs": [],
   "source": [
    "# Set a random seed so we all get the same answers.\n",
    "np.random.seed(42)\n",
    "\n",
    "# Beta(7, 5)\n",
    "# Binomial(40, 30)\n",
    "\n",
    "# Generate 100,000 observations from the posterior distribution.\n",
    "p_d = np.random.beta(7 + 30,5 + (40-30), 100000)"
   ]
  },
  {
   "cell_type": "code",
   "execution_count": null,
   "metadata": {},
   "outputs": [],
   "source": [
    "# Plot a histogram of the simulated posterior distribution of p_d.\n",
    "plt.hist(p_d, bins = 20);"
   ]
  },
  {
   "cell_type": "code",
   "execution_count": null,
   "metadata": {},
   "outputs": [],
   "source": [
    "# Use the values of p_d to simulate 100,000 elections.\n",
    "elections = [1 if i > 0.5 else 0 for i in p_d]"
   ]
  },
  {
   "cell_type": "code",
   "execution_count": null,
   "metadata": {},
   "outputs": [],
   "source": [
    "# How many elections did we win?\n",
    "np.mean(elections)"
   ]
  },
  {
   "cell_type": "code",
   "execution_count": null,
   "metadata": {},
   "outputs": [],
   "source": [
    "# Set a random seed so we all get the same answers.\n",
    "np.random.seed(42)\n",
    "\n",
    "# Beta(10, 40)\n",
    "# Binomial(100, 55)\n",
    "\n",
    "# Generate 100,000 observations from the posterior distribution.\n",
    "p_d = np.random.beta(10 + 55, 40 + (100-55), 100000)\n",
    "\n",
    "# Plot a histogram of the simulated posterior distribution of p_d.\n",
    "plt.hist(p_d, bins = 20);\n",
    "\n",
    "# Use the values of p_d to simulate 100,000 elections.\n",
    "elections = [1 if i > 0.5 else 0 for i in p_d]\n",
    "\n",
    "# How many elections did we win?\n",
    "np.mean(elections)"
   ]
  },
  {
   "cell_type": "markdown",
   "metadata": {},
   "source": [
    "## We can do this for all Senate elections to forecast how likely it is that one party takes control of the Senate, or for all states to forecast how likely it is that a person wins the Electoral College, and so on.\n",
    "- This type of random number generation to model complex systems is known as [Monte Carlo simulation](https://en.wikipedia.org/wiki/Monte_Carlo_method)."
   ]
  }
 ],
 "metadata": {
  "kernelspec": {
   "display_name": "Python 3",
   "language": "python",
   "name": "python3"
  },
  "language_info": {
   "codemirror_mode": {
    "name": "ipython",
    "version": 3
   },
   "file_extension": ".py",
   "mimetype": "text/x-python",
   "name": "python",
   "nbconvert_exporter": "python",
   "pygments_lexer": "ipython3",
   "version": "3.7.0"
  }
 },
 "nbformat": 4,
 "nbformat_minor": 2
}
