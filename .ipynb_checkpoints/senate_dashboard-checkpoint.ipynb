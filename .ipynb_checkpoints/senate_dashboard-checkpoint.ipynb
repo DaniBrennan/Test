{
 "cells": [
  {
   "cell_type": "code",
   "execution_count": null,
   "metadata": {},
   "outputs": [],
   "source": [
    "## Map & Histogram & Options\n",
    "import numpy as np\n",
    "\n",
    "from bokeh.io import show, output_notebook, output_file\n",
    "from bokeh.models import LinearColorMapper \n",
    "from bokeh.plotting import figure\n",
    "from bokeh.layouts import layout, gridplot\n",
    "\n",
    "from bokeh.sampledata.us_states import data as states\n",
    "\n",
    "## Options\n",
    "from bokeh.models.widgets import RadioGroup"
   ]
  },
  {
   "cell_type": "code",
   "execution_count": null,
   "metadata": {},
   "outputs": [],
   "source": [
    "# Set up radio button for \"Lite\", \"Classic\", and \"Deluxe\" forecast\n",
    "def options():\n",
    "    radio_button = RadioGroup(labels=[\"Lite\", \"Classic\", \"Deluxe\"], active=1)\n",
    "    return radio_button"
   ]
  },
  {
   "cell_type": "code",
   "execution_count": null,
   "metadata": {},
   "outputs": [],
   "source": [
    "# Set up map for forecast\n",
    "\n",
    "def map_results(states):\n",
    "    # Dictionary Comprehension to Grab 48 States + DC\n",
    "    states = {state: values for state, values in states.items() if state != 'AK' and state != 'HI'}\n",
    "    \n",
    "    # Unpack state locations and state names.\n",
    "    state_longs = [state[\"lons\"] for state in states.values()]\n",
    "    state_lats = [state[\"lats\"] for state in states.values()]\n",
    "    state_names = [state['name'] for state in states.values()]\n",
    "\n",
    "    # Define colors for shading.\n",
    "    color_mapper = LinearColorMapper(palette=['#e62e24', '#f48186', '#e0e0e0', '#6ebbda', '#127ebe'])\n",
    "\n",
    "    # Create dictionary of data.\n",
    "    data = {'x':state_longs,\n",
    "            'y':state_lats,\n",
    "            'name':state_names,\n",
    "            'demrate': 100 * np.random.uniform(0, 1, 49)}\n",
    "    \n",
    "    # List of Bokeh tools.\n",
    "    TOOLS = \"pan,wheel_zoom,reset,hover,save\"\n",
    "    \n",
    "    # Create map.\n",
    "    p = figure(title=\"Senate Elections, 2018\",\n",
    "               tools=TOOLS,\n",
    "               x_axis_location=None,\n",
    "               y_axis_location=None,\n",
    "               tooltips=[(\"Name\", \"@name\"), (\"Probability of Democratic Win\", \"@demrate%\")],\n",
    "               plot_width=1200,\n",
    "               plot_height=800)\n",
    "    \n",
    "    # Add details to map.\n",
    "    p.background_fill_color=\"#fafafa\"\n",
    "    p.grid.grid_line_color = None\n",
    "    p.hover.point_policy = \"follow_mouse\"\n",
    "    p.patches('x',\n",
    "              'y',\n",
    "              source=data,\n",
    "              fill_color={'field': 'demrate',\n",
    "                          'transform': color_mapper},\n",
    "              fill_alpha=0.7,\n",
    "              line_color=\"white\",\n",
    "              line_width=1)\n",
    "    \n",
    "    return p"
   ]
  },
  {
   "cell_type": "code",
   "execution_count": null,
   "metadata": {},
   "outputs": [],
   "source": [
    "# Make sure we get the same results!\n",
    "np.random.seed(42)\n",
    "\n",
    "# Simulate how many Senate seats are won by Democrats.\n",
    "simulations = np.random.poisson(50,1000)"
   ]
  },
  {
   "cell_type": "code",
   "execution_count": null,
   "metadata": {},
   "outputs": [],
   "source": [
    "# Set up histogram for forecast\n",
    "\n",
    "def histogram(simulations):\n",
    "    # Generate dictionary for D and R Senate control.\n",
    "    hist_dict_dem = {i: list(simulations).count(i) for i in set(simulations) if i > 50}\n",
    "    hist_dict_rep = {i: list(simulations).count(i) for i in set(simulations) if i <= 50}\n",
    "    \n",
    "    # List of Bokeh tools.\n",
    "    TOOLS = \"pan,reset,hover,save\"\n",
    "    \n",
    "    # Generate figure.\n",
    "    p = figure(title=\"Forecasting the Race for Senate\",\n",
    "               tools=TOOLS,\n",
    "               background_fill_color=\"#fafafa\",\n",
    "               tooltips=[(\"Number of D Seats\", \"$x{0.}\")],\n",
    "               plot_width=600,\n",
    "               plot_height=800)\n",
    "    \n",
    "    # Generate side of histogram for Democrats controlling Senate.\n",
    "    p.vbar(x = list(hist_dict_dem.keys()),\n",
    "           width = 1,\n",
    "           top = list(hist_dict_dem.values()),\n",
    "           bottom = 0,\n",
    "           fill_color = '#127ebe',\n",
    "           line_color = 'white')\n",
    "    \n",
    "    # Generate side of histogram for Republicans controlling Senate.\n",
    "    p.vbar(x = list(hist_dict_rep.keys()),\n",
    "       width = 1,\n",
    "       top = list(hist_dict_rep.values()),\n",
    "       bottom = 0,\n",
    "       fill_color = '#e62e24',\n",
    "       line_color = 'white')\n",
    "    \n",
    "    # Add details to histogram.\n",
    "    p.y_range.start = 0\n",
    "    p.x_range.start = 40\n",
    "    p.x_range.end = 60\n",
    "    p.xaxis.axis_label = 'Number of Democratic Senate Seats'\n",
    "    p.yaxis.axis_label = 'Higher Probability ----->'\n",
    "    p.grid.grid_line_color=\"white\"\n",
    "    \n",
    "    return p"
   ]
  },
  {
   "cell_type": "code",
   "execution_count": null,
   "metadata": {},
   "outputs": [],
   "source": [
    "# Generate interactive dashboard in a grid.\n",
    "g = gridplot(\n",
    "        children=[[options()],                                    # Row 1\n",
    "                  [histogram(simulations), map_results(states)]], # Row 2\n",
    "        toolbar_location='right',\n",
    "        sizing_mode='fixed',\n",
    "        toolbar_options=dict(logo='grey'))"
   ]
  },
  {
   "cell_type": "code",
   "execution_count": null,
   "metadata": {},
   "outputs": [],
   "source": [
    "# Generate dashboard and open in notebook.\n",
    "output_notebook()\n",
    "show(g)"
   ]
  },
  {
   "cell_type": "code",
   "execution_count": null,
   "metadata": {},
   "outputs": [],
   "source": [
    "# Generate .html file.\n",
    "output_file('./output.html')\n",
    "show(g)"
   ]
  }
 ],
 "metadata": {
  "kernelspec": {
   "display_name": "Python 3",
   "language": "python",
   "name": "python3"
  },
  "language_info": {
   "codemirror_mode": {
    "name": "ipython",
    "version": 3
   },
   "file_extension": ".py",
   "mimetype": "text/x-python",
   "name": "python",
   "nbconvert_exporter": "python",
   "pygments_lexer": "ipython3",
   "version": "3.7.0"
  }
 },
 "nbformat": 4,
 "nbformat_minor": 2
}
